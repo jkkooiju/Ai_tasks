{
 "cells": [
  {
   "cell_type": "code",
   "execution_count": 1,
   "id": "f2981f31",
   "metadata": {},
   "outputs": [],
   "source": [
    "import requests\n",
    "from bs4 import BeautifulSoup\n"
   ]
  },
  {
   "cell_type": "code",
   "execution_count": 2,
   "id": "c583d113",
   "metadata": {},
   "outputs": [],
   "source": [
    "# Define the URL of the match center\n",
    "url = 'https://www.yallakora.com/Match-Center/?date=18/21/2023'"
   ]
  },
  {
   "cell_type": "code",
   "execution_count": 7,
   "id": "1c85a77c",
   "metadata": {},
   "outputs": [],
   "source": [
    "# Send an HTTP GET request to the URL\n",
    "response = requests.get(url)\n",
    "html_content = response.content"
   ]
  },
  {
   "cell_type": "code",
   "execution_count": null,
   "id": "5f3f4997",
   "metadata": {},
   "outputs": [],
   "source": [
    "print(html_content)"
   ]
  },
  {
   "cell_type": "code",
   "execution_count": 9,
   "id": "0cd34dfc",
   "metadata": {},
   "outputs": [],
   "source": [
    "# Create a BeautifulSoup object to parse the HTML content\n",
    "soup = BeautifulSoup(html_content, 'html.parser')"
   ]
  },
  {
   "cell_type": "code",
   "execution_count": null,
   "id": "81ff51e3",
   "metadata": {},
   "outputs": [],
   "source": [
    "soup"
   ]
  },
  {
   "cell_type": "code",
   "execution_count": 15,
   "id": "e10a419f",
   "metadata": {},
   "outputs": [],
   "source": [
    " #Find all match elements on the page\n",
    "championships = soup.find_all('div', class_='channel icon-channel')"
   ]
  },
  {
   "cell_type": "code",
   "execution_count": 17,
   "id": "e60004a2",
   "metadata": {},
   "outputs": [
    {
     "data": {
      "text/plain": [
       "26"
      ]
     },
     "execution_count": 17,
     "metadata": {},
     "output_type": "execute_result"
    }
   ],
   "source": [
    "len(championships)"
   ]
  },
  {
   "cell_type": "code",
   "execution_count": 19,
   "id": "bd308e5d",
   "metadata": {},
   "outputs": [
    {
     "data": {
      "text/plain": [
       "'بى ان سبورت 4 HD'"
      ]
     },
     "execution_count": 19,
     "metadata": {},
     "output_type": "execute_result"
    }
   ],
   "source": [
    "championships[0].contents[0]"
   ]
  },
  {
   "cell_type": "code",
   "execution_count": 21,
   "id": "bb6873a2",
   "metadata": {},
   "outputs": [
    {
     "data": {
      "text/plain": [
       "'بى ان سبورت 4 HD'"
      ]
     },
     "execution_count": 21,
     "metadata": {},
     "output_type": "execute_result"
    }
   ],
   "source": [
    "shampion_title = championships[0].contents[0].text.strip()\n",
    "shampion_title"
   ]
  },
  {
   "cell_type": "code",
   "execution_count": 22,
   "id": "4f78b6e0",
   "metadata": {},
   "outputs": [
    {
     "name": "stdout",
     "output_type": "stream",
     "text": [
      "بى ان سبورت 4 HD\n",
      "بى ان سبورت 3 HD\n",
      "بى ان سبورت 2 HD\n",
      "بى ان سبورت 1HD\n",
      "بى ان سبورت 4 HD\n",
      "بى ان سبورت 2 HD\n",
      "بى ان سبورت 1HD\n",
      "بى ان سبورت 5 HD\n",
      "بى ان سبورت بريميوم 1\n",
      "بى ان سبورت اكسترا 1\n",
      "بى ان سبورت بريميوم 1\n",
      "بى ان سبورت بريميوم 3\n",
      "بى ان سبورت بريميوم 2\n",
      "بى ان سبورت بريميوم 1\n",
      "بى ان سبورت 1HD\n",
      "بى ان سبورت 4 HD\n",
      "بى ان سبورت 1HD\n",
      "Starz Play App\n",
      "Starz Play App\n",
      "Starz Play App\n",
      "Starz Play App\n",
      "بى ان سبورت 3 HD\n",
      "بى ان سبورت 6 HD\n",
      "بى ان سبورت 3 HD\n",
      "بى ان سبورت بريميوم 2\n",
      "بى ان سبورت 2 HD\n"
     ]
    }
   ],
   "source": [
    "for i in range(len(championships)):\n",
    "    print(championships[i].contents[0].text.strip())"
   ]
  }
 ],
 "metadata": {
  "kernelspec": {
   "display_name": "Python 3 (ipykernel)",
   "language": "python",
   "name": "python3"
  },
  "language_info": {
   "codemirror_mode": {
    "name": "ipython",
    "version": 3
   },
   "file_extension": ".py",
   "mimetype": "text/x-python",
   "name": "python",
   "nbconvert_exporter": "python",
   "pygments_lexer": "ipython3",
   "version": "3.9.13"
  }
 },
 "nbformat": 4,
 "nbformat_minor": 5
}
