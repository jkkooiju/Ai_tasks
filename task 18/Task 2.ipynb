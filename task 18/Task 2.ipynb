{
 "cells": [
  {
   "cell_type": "markdown",
   "id": "7e23c27f",
   "metadata": {},
   "source": [
    "# Python Lambda Functions "
   ]
  },
  {
   "cell_type": "markdown",
   "id": "11f15323",
   "metadata": {},
   "source": [
    "are anonymous function means that the function is without a name. As we already know that the def keyword is used to define a normal function in Python. Similarly, the lambda keyword is used to define an anonymous function in Python. \n",
    "\n",
    "Python Lambda Function Syntax\n",
    "Syntax: lambda arguments : expression\n",
    "\n",
    "**This function can have any number of arguments but only one expression, which is evaluated and returned.\n",
    "**One is free to use lambda functions wherever function objects are required.\n",
    "**You need to keep in your knowledge that lambda functions are syntactically restricted to a single expression.\n",
    "**It has various uses in particular fields of programming, besides other types of expressions in functions.\n"
   ]
  },
  {
   "cell_type": "markdown",
   "id": "768dc656",
   "metadata": {},
   "source": [
    "**Python Lambda Function Example\n",
    "In the example, we defined a lambda function(upper) to convert a string to its upper case using upper()."
   ]
  },
  {
   "cell_type": "code",
   "execution_count": 2,
   "id": "e043b1ff",
   "metadata": {},
   "outputs": [
    {
     "name": "stdout",
     "output_type": "stream",
     "text": [
      "GEEKSFORGEEKS\n"
     ]
    }
   ],
   "source": [
    "str1 = 'GeeksforGeeks'\n",
    " \n",
    "upper = lambda string: string.upper()\n",
    "print(upper(str1))"
   ]
  },
  {
   "cell_type": "code",
   "execution_count": 3,
   "id": "176c2439",
   "metadata": {},
   "outputs": [
    {
     "name": "stdout",
     "output_type": "stream",
     "text": [
      "Int formatting: 1.000000e+06\n",
      "float formatting: 999,999.79\n"
     ]
    }
   ],
   "source": [
    "format_numeric = lambda num: f\"{num:e}\" if isinstance(num, int) else f\"{num:,.2f}\"\n",
    " \n",
    "print(\"Int formatting:\", format_numeric(1000000))\n",
    "print(\"float formatting:\", format_numeric(999999.789541235))"
   ]
  },
  {
   "cell_type": "code",
   "execution_count": 4,
   "id": "13dafc90",
   "metadata": {},
   "outputs": [
    {
     "name": "stdout",
     "output_type": "stream",
     "text": [
      "10\n",
      "20\n",
      "30\n",
      "40\n"
     ]
    }
   ],
   "source": [
    "is_even_list = [lambda arg=x: arg * 10 for x in range(1, 5)]\n",
    " \n",
    "# iterate on each lambda function\n",
    "# and invoke the function to get the calculated value\n",
    "for item in is_even_list:\n",
    "    print(item())"
   ]
  },
  {
   "cell_type": "markdown",
   "id": "9408505e",
   "metadata": {},
   "source": [
    "# Python Lambda with Multiple Statements\n",
    "Lambda functions do not allow multiple statements, however, we can create two lambda functions and\n",
    "then call the other lambda function as a parameter to the first function.\n",
    "Let’s try to find the second maximum element using lambda."
   ]
  },
  {
   "cell_type": "code",
   "execution_count": 5,
   "id": "224887df",
   "metadata": {},
   "outputs": [
    {
     "name": "stdout",
     "output_type": "stream",
     "text": [
      "[3, 16, 9]\n"
     ]
    }
   ],
   "source": [
    "\n",
    "List = [[2,3,4],[1, 4, 16, 64],[3, 6, 9, 12]]\n",
    " \n",
    "# Sort each sublist\n",
    "sortList = lambda x: (sorted(i) for i in x)\n",
    " \n",
    "# Get the second largest element\n",
    "secondLargest = lambda x, f : [y[len(y)-2] for y in f(x)]\n",
    "res = secondLargest(List, sortList)\n",
    " \n",
    "print(res)"
   ]
  },
  {
   "cell_type": "code",
   "execution_count": null,
   "id": "adf757f1",
   "metadata": {},
   "outputs": [],
   "source": []
  }
 ],
 "metadata": {
  "kernelspec": {
   "display_name": "Python 3 (ipykernel)",
   "language": "python",
   "name": "python3"
  },
  "language_info": {
   "codemirror_mode": {
    "name": "ipython",
    "version": 3
   },
   "file_extension": ".py",
   "mimetype": "text/x-python",
   "name": "python",
   "nbconvert_exporter": "python",
   "pygments_lexer": "ipython3",
   "version": "3.9.13"
  }
 },
 "nbformat": 4,
 "nbformat_minor": 5
}
