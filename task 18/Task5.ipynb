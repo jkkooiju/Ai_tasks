{
 "cells": [
  {
   "cell_type": "markdown",
   "id": "c65d3f85",
   "metadata": {},
   "source": [
    "# Pandas merge() function \n",
    "is used to merge multiple Dataframes.\n",
    "We can use either pandas.merge() or DataFrame.merge() to merge multiple Dataframes. \n",
    "Merging multiple Dataframes is similar to SQL join and supports different \n",
    "types of join inner, left, right, outer, cross.\n",
    "\n",
    "In this article, we will learn how to merge multiple (three or more) Dataframes with examples."
   ]
  },
  {
   "cell_type": "code",
   "execution_count": 1,
   "id": "ba1855ff",
   "metadata": {},
   "outputs": [
    {
     "name": "stdout",
     "output_type": "stream",
     "text": [
      "First DataFrame:\n",
      "    Courses    Fee Duration\n",
      "1    Spark  20000   30days\n",
      "2  PySpark  25000   40days\n",
      "3   Python  22000   35days\n",
      "4   pandas  30000   50days\n",
      "Second DataFrame:\n",
      "   Courses  Discount\n",
      "1   Spark      2000\n",
      "6    Java      2300\n",
      "3  Python      1200\n",
      "5      Go      2000\n",
      "Third DataFrame:\n",
      "   Instructor Courses\n",
      "1      Jerry   Spark\n",
      "6        Tom    Java\n",
      "3      Smith  Python\n",
      "7       John   Scala\n"
     ]
    }
   ],
   "source": [
    "# Create DataFrames\n",
    "import pandas as pd\n",
    "technologies = {\n",
    "    'Courses':[\"Spark\",\"PySpark\",\"Python\",\"pandas\"],\n",
    "    'Fee' :[20000,25000,22000,30000],\n",
    "    'Duration':['30days','40days','35days','50days'],\n",
    "              }\n",
    "index_labels=['1','2','3','4']\n",
    "df1 = pd.DataFrame(technologies,index=index_labels)\n",
    "\n",
    "technologies2 = {\n",
    "    'Courses':[\"Spark\",\"Java\",\"Python\",\"Go\"],\n",
    "    'Discount':[2000,2300,1200,2000]\n",
    "              }\n",
    "index_labels2=['1','6','3','5']\n",
    "df2 = pd.DataFrame(technologies2,index=index_labels2)\n",
    "technologies3 = {\n",
    "    'Instructor': [\"Jerry\", \"Tom\", \"Smith\", \"John\"],\n",
    "    'Courses': [\"Spark\", \"Java\", \"Python\", \"Scala\"]\n",
    "}\n",
    "index_labels3 = ['1','6','3','7']\n",
    "df3 = pd.DataFrame(technologies3, index=index_labels3)\n",
    "\n",
    "print(\"First DataFrame:\\n\", df1)\n",
    "print(\"Second DataFrame:\\n\", df2)\n",
    "print(\"Third DataFrame:\\n\", df3)"
   ]
  },
  {
   "cell_type": "markdown",
   "id": "ebb426f6",
   "metadata": {},
   "source": [
    "# 1. Pandas Merge on Multiple DataFrames Example\n",
    "pandas.merge() and DataFrame.merge() are used to merge two DataFrames or multiple DataFrames. \n",
    "Both these methods work exactly the same and they also take a similar number of params.\n",
    "Merging DataFrames is nothing but joining DataFrames similar to Database join.\n",
    "\n",
    "Similar to the Database join, the merge() method also supports several join\n",
    "types like left, right, inner, outer and cross. Use how param to specify the join type.\n",
    "\n",
    "\n",
    "By default merge() uses inner join on columns that are present on both DataFrames.\n",
    "You can also explicitly specify the columns you want to join and join by row index."
   ]
  },
  {
   "cell_type": "code",
   "execution_count": 2,
   "id": "eb56a9ef",
   "metadata": {},
   "outputs": [
    {
     "name": "stdout",
     "output_type": "stream",
     "text": [
      "Afetr merging the multiple DataFrames:\n",
      "   Courses    Fee Duration  Discount Instructor\n",
      "0   Spark  20000   30days      2000      Jerry\n",
      "1  Python  22000   35days      1200      Smith\n"
     ]
    }
   ],
   "source": [
    "# Pandas Merge on Multiple DataFrames Example\n",
    "df4 = pd.merge(pd.merge(df1,df2,on='Courses'),df3,on='Courses')\n",
    "print(\"Afetr merging the multiple DataFrames:\\n\", df4)"
   ]
  },
  {
   "cell_type": "code",
   "execution_count": 3,
   "id": "545e4d24",
   "metadata": {},
   "outputs": [
    {
     "name": "stdout",
     "output_type": "stream",
     "text": [
      "Afetr merging the multiple DataFrames:\n",
      "   Courses    Fee Duration  Discount Instructor\n",
      "0   Spark  20000   30days      2000      Jerry\n",
      "1  Python  22000   35days      1200      Smith\n"
     ]
    }
   ],
   "source": [
    "# By using DataFrame.merge()\n",
    "df5 = df1.merge(df2,on='Courses').merge(df3,on='Courses')\n",
    "print(\"Afetr merging the multiple DataFrames:\\n\", df5)"
   ]
  },
  {
   "cell_type": "markdown",
   "id": "0163c79b",
   "metadata": {},
   "source": [
    "# 2. Join Multiple DataFrames Using Left Join\n",
    "In the above example, a merge of three Dataframes is done in the “Courses ” column. \n",
    "If we don’t specify also the merge will be done on the “Courses” column, the default behavior(join on inner) \n",
    "because the only common column on three Dataframes is “Courses”.\n",
    "\n",
    "Below is the example of merge() using left join"
   ]
  },
  {
   "cell_type": "code",
   "execution_count": 4,
   "id": "85ae3b00",
   "metadata": {},
   "outputs": [
    {
     "name": "stdout",
     "output_type": "stream",
     "text": [
      "   Courses    Fee Duration  Discount Instructor\n",
      "0    Spark  20000   30days    2000.0      Jerry\n",
      "1  PySpark  25000   40days       NaN        NaN\n",
      "2   Python  22000   35days    1200.0      Smith\n",
      "3   pandas  30000   50days       NaN        NaN\n"
     ]
    }
   ],
   "source": [
    "\n",
    "# Merge multiple DataFrames using left join\n",
    "df6 = df1.merge(df2,how ='left').merge(df3,how ='left')\n",
    "print(df6)"
   ]
  },
  {
   "cell_type": "markdown",
   "id": "d40f4b49",
   "metadata": {},
   "source": [
    "# 3. Quick Examples of Merging Multiple DataFrames"
   ]
  },
  {
   "cell_type": "code",
   "execution_count": 6,
   "id": "8cead674",
   "metadata": {},
   "outputs": [
    {
     "name": "stdout",
     "output_type": "stream",
     "text": [
      "  Courses    Fee Duration  Discount Instructor\n",
      "0   Spark  20000   30days      2000      Jerry\n",
      "1  Python  22000   35days      1200      Smith\n",
      "  Courses    Fee Duration  Discount Instructor\n",
      "0   Spark  20000   30days      2000      Jerry\n",
      "1  Python  22000   35days      1200      Smith\n",
      "   Courses    Fee Duration  Discount Instructor\n",
      "0    Spark  20000   30days    2000.0      Jerry\n",
      "1  PySpark  25000   40days       NaN        NaN\n",
      "2   Python  22000   35days    1200.0      Smith\n",
      "3   pandas  30000   50days       NaN        NaN\n"
     ]
    }
   ],
   "source": [
    "# Below are quick examples of merging multiple DataFrames\n",
    "\n",
    "# Create DataFrame\n",
    "import pandas as pd\n",
    "technologies = {\n",
    "    'Courses': [\"Spark\", \"PySpark\", \"Python\", \"pandas\"],\n",
    "    'Fee': [20000, 25000, 22000, 30000],\n",
    "    'Duration': ['30days', '40days', '35days', '50days'],\n",
    "}\n",
    "index_labels = ['r1', 'r2', 'r3', 'r4']\n",
    "df1 = pd.DataFrame(technologies, index=index_labels)\n",
    "\n",
    "technologies2 = {\n",
    "    'Courses': [\"Spark\", \"Java\", \"Python\", \"Go\"],\n",
    "    'Discount': [2000, 2300, 1200, 2000]\n",
    "}\n",
    "index_labels2 = ['r1', 'r6', 'r3', 'r5']\n",
    "df2 = pd.DataFrame(technologies2, index=index_labels2)\n",
    "\n",
    "\n",
    "technologies3 = {\n",
    "    'Instructor': [\"Jerry\", \"Tom\", \"Smith\", \"John\"],\n",
    "    'Courses': [\"Spark\", \"Java\", \"Python\", \"Scala\"]\n",
    "}\n",
    "index_labels3 = ['r1','r6','r3','r7']\n",
    "df3 = pd.DataFrame(technologies3, index=index_labels3)\n",
    "\n",
    "# Pandas Merge on Multiple DataFrames using pd.merge()\n",
    "df4 = pd.merge(pd.merge(df1,df2,on='Courses'),df3,on='Courses')\n",
    "\n",
    "print(df4)\n",
    "\n",
    "# By using DataFrame.merge()\n",
    "df5 = df1.merge(df2,on='Courses').merge(df3,on='Courses')\n",
    "print(df5)\n",
    "\n",
    "# Merge multiple DataFrames using left join\n",
    "df6 = df1.merge(df2,how ='left').merge(df3,how ='left')\n",
    "print(df6)"
   ]
  },
  {
   "cell_type": "markdown",
   "id": "2cd754ff",
   "metadata": {},
   "source": [
    "# Conclusion\n",
    "So far, we have learned how to merge Pandas multiple Dataframes using pd.merge() and df.merge().\n",
    "Merging is a join operation that combines the columns from multiple\n",
    "DataFrames based on conditions specified in the ‘on’ or ‘how’ clause.\n",
    "Merge also supports joining on columns, index, and a combination of both."
   ]
  },
  {
   "cell_type": "code",
   "execution_count": null,
   "id": "83359554",
   "metadata": {},
   "outputs": [],
   "source": []
  }
 ],
 "metadata": {
  "kernelspec": {
   "display_name": "Python 3 (ipykernel)",
   "language": "python",
   "name": "python3"
  },
  "language_info": {
   "codemirror_mode": {
    "name": "ipython",
    "version": 3
   },
   "file_extension": ".py",
   "mimetype": "text/x-python",
   "name": "python",
   "nbconvert_exporter": "python",
   "pygments_lexer": "ipython3",
   "version": "3.9.13"
  }
 },
 "nbformat": 4,
 "nbformat_minor": 5
}
