{
 "cells": [
  {
   "cell_type": "code",
   "execution_count": 2,
   "id": "78cba911",
   "metadata": {},
   "outputs": [
    {
     "name": "stdout",
     "output_type": "stream",
     "text": [
      "original DataFrame\n",
      "   col2  col1\n",
      "3   150    70\n",
      "2   170    55\n",
      "1   160    60\n",
      "Sorted by index\n"
     ]
    },
    {
     "data": {
      "text/html": [
       "<div>\n",
       "<style scoped>\n",
       "    .dataframe tbody tr th:only-of-type {\n",
       "        vertical-align: middle;\n",
       "    }\n",
       "\n",
       "    .dataframe tbody tr th {\n",
       "        vertical-align: top;\n",
       "    }\n",
       "\n",
       "    .dataframe thead th {\n",
       "        text-align: right;\n",
       "    }\n",
       "</style>\n",
       "<table border=\"1\" class=\"dataframe\">\n",
       "  <thead>\n",
       "    <tr style=\"text-align: right;\">\n",
       "      <th></th>\n",
       "      <th>col2</th>\n",
       "      <th>col1</th>\n",
       "    </tr>\n",
       "  </thead>\n",
       "  <tbody>\n",
       "    <tr>\n",
       "      <th>1</th>\n",
       "      <td>160</td>\n",
       "      <td>60</td>\n",
       "    </tr>\n",
       "    <tr>\n",
       "      <th>2</th>\n",
       "      <td>170</td>\n",
       "      <td>55</td>\n",
       "    </tr>\n",
       "    <tr>\n",
       "      <th>3</th>\n",
       "      <td>150</td>\n",
       "      <td>70</td>\n",
       "    </tr>\n",
       "  </tbody>\n",
       "</table>\n",
       "</div>"
      ],
      "text/plain": [
       "   col2  col1\n",
       "1   160    60\n",
       "2   170    55\n",
       "3   150    70"
      ]
     },
     "execution_count": 2,
     "metadata": {},
     "output_type": "execute_result"
    }
   ],
   "source": [
    "# import necessary packages\n",
    "import pandas as pd\n",
    " \n",
    "# create 2 dataframes with different indexes\n",
    "hostelCandidates1 = pd.DataFrame({'col2': [150, 170, 160],\n",
    "                                  'col1': [70, 55, 60]},\n",
    "                                 index=[3, 2, 1])\n",
    "print('original DataFrame')\n",
    "print(hostelCandidates1)\n",
    " \n",
    "# sorted temporarily based on index labels\n",
    "print('Sorted by index')\n",
    "hostelCandidates1.sort_index(axis=0)"
   ]
  },
  {
   "cell_type": "markdown",
   "id": "78e4b640",
   "metadata": {},
   "source": [
    "# Preparing the Dataset\n",
    "In this tutorial, you’ll be working with fuel economy data compiled by the US Environmental\n",
    "Protection Agency (EPA) on vehicles made between 1984 and 2021. \n",
    "The EPA fuel economy dataset is great because it has many different\n",
    "types of information that you can sort on, from textual to numeric data types.\n",
    "The dataset contains eighty-three columns in total."
   ]
  },
  {
   "cell_type": "code",
   "execution_count": 5,
   "id": "bef09fe2",
   "metadata": {},
   "outputs": [],
   "source": [
    ">>> import pandas as pd\n",
    "\n",
    ">>> column_subset = [\n",
    "...     \"id\",\n",
    "...     \"make\",\n",
    "...     \"model\",\n",
    "...     \"year\",\n",
    "...     \"cylinders\",\n",
    "...     \"fuelType\",\n",
    "...     \"trany\",\n",
    "...     \"mpgData\",\n",
    "...     \"city08\",\n",
    "...     \"highway08\"\n",
    "... ]\n",
    "\n",
    ">>> df = pd.read_csv(\n",
    "...     \"https://www.fueleconomy.gov/feg/epadata/vehicles.csv\",\n",
    "...     usecols=column_subset,\n",
    "...     nrows=100\n",
    "... )"
   ]
  },
  {
   "cell_type": "code",
   "execution_count": 6,
   "id": "4d282eb5",
   "metadata": {},
   "outputs": [
    {
     "data": {
      "text/plain": [
       "<bound method NDFrame.head of     city08  cylinders fuelType  highway08     id         make  \\\n",
       "0       19          4  Regular         25      1   Alfa Romeo   \n",
       "1        9         12  Regular         14     10      Ferrari   \n",
       "2       23          4  Regular         33    100        Dodge   \n",
       "3       10          8  Regular         12   1000        Dodge   \n",
       "4       17          4  Premium         23  10000       Subaru   \n",
       "..     ...        ...      ...        ...    ...          ...   \n",
       "95      17          6  Regular         25  10083      Pontiac   \n",
       "96      17          6  Regular         27  10084      Pontiac   \n",
       "97      15          6  Regular         24  10085      Pontiac   \n",
       "98      15          6  Regular         24  10086      Pontiac   \n",
       "99       9          8  Premium         13  10087  Rolls-Royce   \n",
       "\n",
       "                   model mpgData            trany  year  \n",
       "0     Spider Veloce 2000       Y     Manual 5-spd  1985  \n",
       "1             Testarossa       N     Manual 5-spd  1985  \n",
       "2                Charger       Y     Manual 5-spd  1985  \n",
       "3    B150/B250 Wagon 2WD       N  Automatic 3-spd  1985  \n",
       "4       Legacy AWD Turbo       N     Manual 5-spd  1993  \n",
       "..                   ...     ...              ...   ...  \n",
       "95            Grand Prix       Y  Automatic 3-spd  1993  \n",
       "96            Grand Prix       N  Automatic 4-spd  1993  \n",
       "97            Grand Prix       N  Automatic 4-spd  1993  \n",
       "98            Grand Prix       N     Manual 5-spd  1993  \n",
       "99  Brooklands/Brklnds L       N  Automatic 4-spd  1993  \n",
       "\n",
       "[100 rows x 10 columns]>"
      ]
     },
     "execution_count": 6,
     "metadata": {},
     "output_type": "execute_result"
    }
   ],
   "source": [
    "df.head"
   ]
  },
  {
   "cell_type": "code",
   "execution_count": null,
   "id": "3c6076cb",
   "metadata": {},
   "outputs": [],
   "source": []
  },
  {
   "cell_type": "code",
   "execution_count": null,
   "id": "0b53aaf6",
   "metadata": {},
   "outputs": [],
   "source": []
  }
 ],
 "metadata": {
  "kernelspec": {
   "display_name": "Python 3 (ipykernel)",
   "language": "python",
   "name": "python3"
  },
  "language_info": {
   "codemirror_mode": {
    "name": "ipython",
    "version": 3
   },
   "file_extension": ".py",
   "mimetype": "text/x-python",
   "name": "python",
   "nbconvert_exporter": "python",
   "pygments_lexer": "ipython3",
   "version": "3.9.13"
  }
 },
 "nbformat": 4,
 "nbformat_minor": 5
}
