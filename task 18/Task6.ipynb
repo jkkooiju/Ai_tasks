{
 "cells": [
  {
   "cell_type": "markdown",
   "id": "7ea3257a",
   "metadata": {},
   "source": [
    "# How to Replace Values on Specific Columns in Pandas\n",
    "To replace values on specific columns in a Pandas DataFrame, you can use the replace method.\n",
    "The replace method takes two arguments: the old value and the new value.\n",
    "    You can specify the old and new values as a scalar, a list, a dictionary, or a regular expression.\n",
    "\n",
    "Here’s the basic syntax of the replace method:\n",
    "\n",
    "df.replace(old_value, new_value, inplace=True)\n",
    "The old_value argument can be a scalar, a list, a dictionary, or a regular expression. \n",
    "If it’s a scalar, Pandas will replace all occurrences of this value with the new_value.\n",
    "If it’s a list or a dictionary, Pandas will replace all occurrences of the values in the list or\n",
    "dictionary with the corresponding new_value. \n",
    "If it’s a regular expression, Pandas will replace all occurrences that match the regular expression with the new_value.\n",
    "\n",
    "The new_value argument can be a scalar or a dictionary. \n",
    "If it’s a scalar, Pandas will replace all occurrences of the old_value with this value.\n",
    "If it’s a dictionary, Pandas will replace all occurrences of the keys in the dictionary \n",
    "with the corresponding values.\n",
    "\n",
    "The inplace=True argument specifies that the changes should be made to the DataFrame in place, without creating a new copy.\n",
    "\n",
    "Let’s see some examples of how to use the replace method to replace values on specific columns.\n",
    "\n",
    "Example 1: Replace a Scalar Value on a Specific Column\n",
    "Suppose you have a DataFrame with a column named “gender” that contains the values “Male” and “Female”. \n",
    "You want to replace all occurrences of “Male” with “M” and all occurrences of “Female” with “F”. Here’s how you can do it:"
   ]
  },
  {
   "cell_type": "code",
   "execution_count": 1,
   "id": "cab8fb3e",
   "metadata": {},
   "outputs": [
    {
     "name": "stdout",
     "output_type": "stream",
     "text": [
      "      name  age gender\n",
      "0    Alice   25      M\n",
      "1      Bob   30      F\n",
      "2  Charlie   35      M\n"
     ]
    }
   ],
   "source": [
    "import pandas as pd\n",
    "\n",
    "df = pd.DataFrame({'name': ['Alice', 'Bob', 'Charlie'],\n",
    "                   'age': [25, 30, 35],\n",
    "                   'gender': ['Male', 'Female', 'Male']})\n",
    "\n",
    "df.replace('Male', 'M', inplace=True)\n",
    "df.replace('Female', 'F', inplace=True)\n",
    "\n",
    "print(df)\n"
   ]
  },
  {
   "cell_type": "markdown",
   "id": "e9654d19",
   "metadata": {},
   "source": [
    "# Example 2:\n",
    "    Replace Multiple Values on a Specific Column\n",
    "Suppose you have a DataFrame with a column named “grade” that contains the values “A”, “B”, “C”, and “D”.\n",
    "You want to replace all occurrences of “A” and “B” with “Pass” and all occurrences of “C” and “D” with “Fail”.\n",
    "Here’s how you can do it:"
   ]
  },
  {
   "cell_type": "code",
   "execution_count": 2,
   "id": "d4680cd3",
   "metadata": {},
   "outputs": [
    {
     "name": "stdout",
     "output_type": "stream",
     "text": [
      "      name  age grade\n",
      "0    Alice   25  Pass\n",
      "1      Bob   30  Pass\n",
      "2  Charlie   35  Fail\n",
      "3    David   40  Fail\n"
     ]
    }
   ],
   "source": [
    "import pandas as pd\n",
    "\n",
    "df = pd.DataFrame({'name': ['Alice', 'Bob', 'Charlie', 'David'],\n",
    "                   'age': [25, 30, 35, 40],\n",
    "                   'grade': ['A', 'B', 'C', 'D']})\n",
    "\n",
    "df.replace(['A', 'B'], 'Pass', inplace=True)\n",
    "df.replace(['C', 'D'], 'Fail', inplace=True)\n",
    "\n",
    "print(df)"
   ]
  },
  {
   "cell_type": "markdown",
   "id": "49846e6c",
   "metadata": {},
   "source": [
    "# Example 3: \n",
    "    Replace Values on Multiple Columns \n",
    "Suppose you have a DataFrame with two columns named “height” and “weight” that \n",
    "contain some missing values represented by the string “NaN”. \n",
    "You want to replace all occurrences of “NaN” with the mean value of each column. Here’s how you can do it:"
   ]
  },
  {
   "cell_type": "code",
   "execution_count": 3,
   "id": "a65867ba",
   "metadata": {},
   "outputs": [
    {
     "name": "stdout",
     "output_type": "stream",
     "text": [
      "   height  weight\n",
      "0   175.0    70.0\n",
      "1   180.0     NaN\n",
      "2     NaN    80.0\n",
      "3   170.0    75.0\n"
     ]
    }
   ],
   "source": [
    "import pandas as pd\n",
    "import numpy as np\n",
    "\n",
    "df = pd.DataFrame({'height': [175, 180, np.nan, 170],\n",
    "                   'weight': [70, np.nan, 80, 75]})\n",
    "\n",
    "mean_height = df['height'].mean()\n",
    "mean_weight = df['weight'].mean()\n",
    "\n",
    "df.replace({'height': 'NaN', 'weight': 'NaN'},\n",
    "           {'height': mean_height, 'weight': mean_weight},\n",
    "           inplace=True)\n",
    "\n",
    "print(df)"
   ]
  },
  {
   "cell_type": "markdown",
   "id": "cae2fe55",
   "metadata": {},
   "source": [
    "# Conclusion\n",
    "In this article, we have shown you how to replace values on specific columns in \n",
    "a Pandas DataFrame using the replace method.\n",
    "The replace method is a powerful tool that can handle various types of replacement\n",
    "tasks, from simple scalar replacement to complex dictionary replacement. \n",
    "We hope this article has been helpful to you, \n",
    "and you can now use the replace method to clean and preprocess your data more efficiently."
   ]
  },
  {
   "cell_type": "code",
   "execution_count": null,
   "id": "e7fcd3b1",
   "metadata": {},
   "outputs": [],
   "source": []
  }
 ],
 "metadata": {
  "kernelspec": {
   "display_name": "Python 3 (ipykernel)",
   "language": "python",
   "name": "python3"
  },
  "language_info": {
   "codemirror_mode": {
    "name": "ipython",
    "version": 3
   },
   "file_extension": ".py",
   "mimetype": "text/x-python",
   "name": "python",
   "nbconvert_exporter": "python",
   "pygments_lexer": "ipython3",
   "version": "3.9.13"
  }
 },
 "nbformat": 4,
 "nbformat_minor": 5
}
